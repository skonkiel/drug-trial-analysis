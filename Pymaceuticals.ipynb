{
 "cells": [
  {
   "cell_type": "markdown",
   "metadata": {},
   "source": [
    "## Observations and Insights\n",
    "The results from this drug trial are promising, but should be interpreted carefully due to the small sample size.\n",
    "\n",
    "1. Capomulin-treated mice had a much smaller average tumor size at the end of treatment (38.125164) than mice treated with Infubinol (60.165180) and Ceftamin (59.851956). The largest tumor for Capomulin-treated mice (47.685) was only slightly larger than the smallest tumor for Infubinol (45.0).\n",
    "2. Ramicane performed comparably to Capomulin with regard to tumor size at the end of treatment, making it our strongest competitor.\n",
    "3. Capomulin saw the smallest number of subject deaths during the course of the 45-day study (n=4) compared to the other most promising drugs studied (Ramicane, n=5; Infubinol, n=16; Ceftamin, n=12).\n",
    "4. There is a strong positive correlation (r squared = 0.84) between mouse weight and average tumor size for mice treated with Capomulin."
   ]
  },
  {
   "cell_type": "markdown",
   "metadata": {},
   "source": [
    "## Dependencies and starter code"
   ]
  },
  {
   "cell_type": "code",
   "execution_count": 1,
   "metadata": {},
   "outputs": [],
   "source": [
    "# Dependencies and Setup\n",
    "import matplotlib.pyplot as plt\n",
    "import pandas as pd\n",
    "import scipy.stats as st\n",
    "from scipy.stats import linregress\n",
    "import numpy as np\n",
    "\n",
    "# Study data files\n",
    "mouse_metadata = \"data/Mouse_metadata.csv\"\n",
    "study_results = \"data/Study_results.csv\"\n",
    "\n",
    "# Read the mouse data and the study results\n",
    "mouse_metadata = pd.read_csv(mouse_metadata)\n",
    "study_results = pd.read_csv(study_results)"
   ]
  },
  {
   "cell_type": "code",
   "execution_count": null,
   "metadata": {},
   "outputs": [],
   "source": [
    "print(\"Mouse\", mouse_metadata.columns, mouse_metadata.shape)\n",
    "print(\"Results\", study_results.columns, study_results.shape)"
   ]
  },
  {
   "cell_type": "code",
   "execution_count": null,
   "metadata": {},
   "outputs": [],
   "source": [
    "study_results.head()"
   ]
  },
  {
   "cell_type": "code",
   "execution_count": null,
   "metadata": {},
   "outputs": [],
   "source": [
    "mouse_metadata.tail()"
   ]
  },
  {
   "cell_type": "code",
   "execution_count": 2,
   "metadata": {},
   "outputs": [],
   "source": [
    "# Combine the data into a single dataset\n",
    "data = pd.merge(mouse_metadata, study_results, how='outer', on='Mouse ID')"
   ]
  },
  {
   "cell_type": "code",
   "execution_count": null,
   "metadata": {},
   "outputs": [],
   "source": [
    "# Have a look at the overall dataset\n",
    "data.head()"
   ]
  },
  {
   "cell_type": "markdown",
   "metadata": {},
   "source": [
    "## Summary statistics"
   ]
  },
  {
   "cell_type": "code",
   "execution_count": 3,
   "metadata": {},
   "outputs": [
    {
     "data": {
      "text/html": [
       "<div>\n",
       "<style scoped>\n",
       "    .dataframe tbody tr th:only-of-type {\n",
       "        vertical-align: middle;\n",
       "    }\n",
       "\n",
       "    .dataframe tbody tr th {\n",
       "        vertical-align: top;\n",
       "    }\n",
       "\n",
       "    .dataframe thead th {\n",
       "        text-align: right;\n",
       "    }\n",
       "</style>\n",
       "<table border=\"1\" class=\"dataframe\">\n",
       "  <thead>\n",
       "    <tr style=\"text-align: right;\">\n",
       "      <th></th>\n",
       "      <th>Median Tumor Vol</th>\n",
       "      <th>Mean Tumor Vol</th>\n",
       "      <th>Variance</th>\n",
       "      <th>Standard Deviation</th>\n",
       "      <th>Standard Error of the Mean</th>\n",
       "    </tr>\n",
       "    <tr>\n",
       "      <th>Drug Regimen</th>\n",
       "      <th></th>\n",
       "      <th></th>\n",
       "      <th></th>\n",
       "      <th></th>\n",
       "      <th></th>\n",
       "    </tr>\n",
       "  </thead>\n",
       "  <tbody>\n",
       "    <tr>\n",
       "      <td>Capomulin</td>\n",
       "      <td>41.557809</td>\n",
       "      <td>40.675741</td>\n",
       "      <td>24.947764</td>\n",
       "      <td>4.994774</td>\n",
       "      <td>0.329346</td>\n",
       "    </tr>\n",
       "    <tr>\n",
       "      <td>Ceftamin</td>\n",
       "      <td>51.776157</td>\n",
       "      <td>52.591172</td>\n",
       "      <td>39.290177</td>\n",
       "      <td>6.268188</td>\n",
       "      <td>0.469821</td>\n",
       "    </tr>\n",
       "    <tr>\n",
       "      <td>Infubinol</td>\n",
       "      <td>51.820584</td>\n",
       "      <td>52.884795</td>\n",
       "      <td>43.128684</td>\n",
       "      <td>6.567243</td>\n",
       "      <td>0.492236</td>\n",
       "    </tr>\n",
       "    <tr>\n",
       "      <td>Ketapril</td>\n",
       "      <td>53.698743</td>\n",
       "      <td>55.235638</td>\n",
       "      <td>68.553577</td>\n",
       "      <td>8.279709</td>\n",
       "      <td>0.603860</td>\n",
       "    </tr>\n",
       "    <tr>\n",
       "      <td>Naftisol</td>\n",
       "      <td>52.509285</td>\n",
       "      <td>54.331565</td>\n",
       "      <td>66.173479</td>\n",
       "      <td>8.134708</td>\n",
       "      <td>0.596466</td>\n",
       "    </tr>\n",
       "    <tr>\n",
       "      <td>Placebo</td>\n",
       "      <td>52.288934</td>\n",
       "      <td>54.033581</td>\n",
       "      <td>61.168083</td>\n",
       "      <td>7.821003</td>\n",
       "      <td>0.581331</td>\n",
       "    </tr>\n",
       "    <tr>\n",
       "      <td>Propriva</td>\n",
       "      <td>50.854632</td>\n",
       "      <td>52.322552</td>\n",
       "      <td>42.351070</td>\n",
       "      <td>6.507770</td>\n",
       "      <td>0.512884</td>\n",
       "    </tr>\n",
       "    <tr>\n",
       "      <td>Ramicane</td>\n",
       "      <td>40.673236</td>\n",
       "      <td>40.216745</td>\n",
       "      <td>23.486704</td>\n",
       "      <td>4.846308</td>\n",
       "      <td>0.320955</td>\n",
       "    </tr>\n",
       "    <tr>\n",
       "      <td>Stelasyn</td>\n",
       "      <td>52.431737</td>\n",
       "      <td>54.233149</td>\n",
       "      <td>59.450562</td>\n",
       "      <td>7.710419</td>\n",
       "      <td>0.573111</td>\n",
       "    </tr>\n",
       "    <tr>\n",
       "      <td>Zoniferol</td>\n",
       "      <td>51.818479</td>\n",
       "      <td>53.236507</td>\n",
       "      <td>48.533355</td>\n",
       "      <td>6.966589</td>\n",
       "      <td>0.516398</td>\n",
       "    </tr>\n",
       "  </tbody>\n",
       "</table>\n",
       "</div>"
      ],
      "text/plain": [
       "              Median Tumor Vol  Mean Tumor Vol   Variance  Standard Deviation  \\\n",
       "Drug Regimen                                                                    \n",
       "Capomulin            41.557809       40.675741  24.947764            4.994774   \n",
       "Ceftamin             51.776157       52.591172  39.290177            6.268188   \n",
       "Infubinol            51.820584       52.884795  43.128684            6.567243   \n",
       "Ketapril             53.698743       55.235638  68.553577            8.279709   \n",
       "Naftisol             52.509285       54.331565  66.173479            8.134708   \n",
       "Placebo              52.288934       54.033581  61.168083            7.821003   \n",
       "Propriva             50.854632       52.322552  42.351070            6.507770   \n",
       "Ramicane             40.673236       40.216745  23.486704            4.846308   \n",
       "Stelasyn             52.431737       54.233149  59.450562            7.710419   \n",
       "Zoniferol            51.818479       53.236507  48.533355            6.966589   \n",
       "\n",
       "              Standard Error of the Mean  \n",
       "Drug Regimen                              \n",
       "Capomulin                       0.329346  \n",
       "Ceftamin                        0.469821  \n",
       "Infubinol                       0.492236  \n",
       "Ketapril                        0.603860  \n",
       "Naftisol                        0.596466  \n",
       "Placebo                         0.581331  \n",
       "Propriva                        0.512884  \n",
       "Ramicane                        0.320955  \n",
       "Stelasyn                        0.573111  \n",
       "Zoniferol                       0.516398  "
      ]
     },
     "execution_count": 3,
     "metadata": {},
     "output_type": "execute_result"
    }
   ],
   "source": [
    "# Generate a summary statistics table of mean, median, variance, standard deviation, \n",
    "# and SEM of the tumor volume for each regimen\n",
    "tumor_median = data.groupby('Drug Regimen')['Tumor Volume (mm3)'].median()\n",
    "tumor_mean = data.groupby('Drug Regimen')['Tumor Volume (mm3)'].mean()\n",
    "tumor_var = data.groupby('Drug Regimen')['Tumor Volume (mm3)'].var()\n",
    "tumor_std = data.groupby('Drug Regimen')['Tumor Volume (mm3)'].std()\n",
    "tumor_sem = data.groupby('Drug Regimen')['Tumor Volume (mm3)'].sem()\n",
    "\n",
    "summary = pd.DataFrame()\n",
    "summary['Median Tumor Vol'] = tumor_median\n",
    "summary['Mean Tumor Vol'] = tumor_mean\n",
    "summary['Variance'] = tumor_var\n",
    "summary['Standard Deviation'] = tumor_std\n",
    "summary['Standard Error of the Mean'] = tumor_sem\n",
    "\n",
    "summary"
   ]
  },
  {
   "cell_type": "markdown",
   "metadata": {},
   "source": [
    "## Bar plots: Number of data points for each drug regimen"
   ]
  },
  {
   "cell_type": "code",
   "execution_count": 4,
   "metadata": {},
   "outputs": [
    {
     "data": {
      "image/png": "[encoded data removed]",
      "text/plain": [
       "<Figure size 432x288 with 1 Axes>"
      ]
     },
     "metadata": {
      "needs_background": "light"
     },
     "output_type": "display_data"
    }
   ],
   "source": [
    "# Generate a bar plot showing number of data points for each treatment regimen using pandas\n",
    "regimen = pd.DataFrame(data['Drug Regimen'].value_counts())\n",
    "regimen = regimen.rename(columns={\"Drug Regimen\": \"Data points\"})\n",
    "regimen.plot.bar(y='Data points', width=0.65, color='#bb8fce')\n",
    "plt.legend().set_visible(False)\n",
    "plt.ylabel(\"Data points\")\n",
    "plt.xlabel(\"Drug name\")\n",
    "plt.title(\"Number of data points, by treatment regimen\")\n",
    "plt.xlim(-0.8,9.8)\n",
    "plt.ylim(0,275)\n",
    "plt.xticks(rotation=60)\n",
    "plt.tight_layout()"
   ]
  },
  {
   "cell_type": "code",
   "execution_count": 5,
   "metadata": {},
   "outputs": [
    {
     "data": {
      "image/png": "[encoded data removed]",
      "text/plain": [
       "<Figure size 432x288 with 1 Axes>"
      ]
     },
     "metadata": {
      "needs_background": "light"
     },
     "output_type": "display_data"
    }
   ],
   "source": [
    "# Generate a bar plot showing number of data points for each treatment regimen using pyplot\n",
    "plt.bar(regimen.index, regimen['Data points'], width=0.65, color='#bb8fce')\n",
    "plt.xticks(rotation=60)\n",
    "plt.ylabel(\"Data points\")\n",
    "plt.xlabel(\"Drug name\")\n",
    "plt.title(\"Number of data points, by treatment regimen\")\n",
    "plt.xlim(-0.8,9.8)\n",
    "plt.ylim(0,275)\n",
    "plt.tight_layout()"
   ]
  },
  {
   "cell_type": "markdown",
   "metadata": {},
   "source": [
    "## Pie plots: Distribution of mouse sex"
   ]
  },
  {
   "cell_type": "code",
   "execution_count": 6,
   "metadata": {},
   "outputs": [
    {
     "data": {
      "text/plain": [
       "Text(0.5, 1.0, 'Distribution of subjects by gender')"
      ]
     },
     "execution_count": 6,
     "metadata": {},
     "output_type": "execute_result"
    },
    {
     "data": {
      "image/png": "[encoded data removed]",
      "text/plain": [
       "<Figure size 432x288 with 1 Axes>"
      ]
     },
     "metadata": {},
     "output_type": "display_data"
    }
   ],
   "source": [
    "# Generate a pie plot showing the distribution of female versus male mice using pandas\n",
    "mice_genders = data.groupby('Sex')['Mouse ID'].count()\n",
    "ax = mice_genders.plot.pie(autopct=\"%1.1f%%\", startangle=90, colors=['#73b092', '#bb8fce'])\n",
    "ax.set_ylabel('') # Y label removal solution borrowed from https://stackoverflow.com/questions/34094596/python-matplotlib-pyplot-pie-charts-how-to-remove-the-label-on-the-left-side\n",
    "plt.title(\"Distribution of subjects by gender\")"
   ]
  },
  {
   "cell_type": "code",
   "execution_count": 7,
   "metadata": {},
   "outputs": [
    {
     "data": {
      "text/plain": [
       "Text(0.5, 1.0, 'Distribution of subjects by gender')"
      ]
     },
     "execution_count": 7,
     "metadata": {},
     "output_type": "execute_result"
    },
    {
     "data": {
      "image/png": "[encoded data removed]",
      "text/plain": [
       "<Figure size 432x288 with 1 Axes>"
      ]
     },
     "metadata": {},
     "output_type": "display_data"
    }
   ],
   "source": [
    "# Generate a pie plot showing the distribution of female versus male mice using pyplot\n",
    "plt.pie(mice_genders, labels=mice_genders.index, autopct=\"%1.1f%%\", startangle=90, colors=['#73b092', '#bb8fce'])\n",
    "plt.title(\"Distribution of subjects by gender\")"
   ]
  },
  {
   "cell_type": "markdown",
   "metadata": {},
   "source": [
    "## Quartiles, outliers and boxplots"
   ]
  },
  {
   "cell_type": "code",
   "execution_count": 8,
   "metadata": {},
   "outputs": [],
   "source": [
    "# Calculate the final tumor volume of each mouse across four of the most promising treatment regimens: Capomulin, Ramicane, Infubinol, and Ceftamin.\n",
    "\n",
    "# Create a df of the most promising drug regimens\n",
    "promising = data[(data['Drug Regimen'] == 'Capomulin') | (data['Drug Regimen'] == 'Ramicane') | \\\n",
    "                 (data['Drug Regimen'] == 'Infubinol') | (data['Drug Regimen'] == 'Ceftamin')]\n",
    "\n",
    "# Get the final timepoints for each mouse\n",
    "promising_timepoints = promising.groupby(['Drug Regimen', 'Mouse ID'])['Timepoint'].max()\n",
    "promising_timepoints_df = pd.DataFrame(promising_timepoints)\n",
    "\n",
    "# Merge df with the max timepoints for each mouse with the original dataframe for the four promising drugs, to get the final tumor volume at those timepoints\n",
    "max_times = promising.merge(promising_timepoints_df, on=['Drug Regimen', 'Mouse ID', 'Timepoint'], how='inner')\n",
    "# max_times.head(5)"
   ]
  },
  {
   "cell_type": "code",
   "execution_count": 9,
   "metadata": {},
   "outputs": [
    {
     "name": "stdout",
     "output_type": "stream",
     "text": [
      "Capomulin deaths:  4\n",
      "Ramicane deaths:  5\n",
      "Infubinol deaths:  16\n",
      "Ceftamin deaths:  12\n"
     ]
    }
   ],
   "source": [
    "cap_deaths = max_times[(max_times['Drug Regimen'] == 'Capomulin') & (max_times['Timepoint'] < 45)]\n",
    "print(\"Capomulin deaths: \", cap_deaths.shape[0])\n",
    "ram_deaths = max_times[(max_times['Drug Regimen'] == 'Ramicane') & (max_times['Timepoint'] < 45)]\n",
    "print(\"Ramicane deaths: \", ram_deaths.shape[0])\n",
    "Infubinol_deaths = max_times[(max_times['Drug Regimen'] == 'Infubinol') & (max_times['Timepoint'] < 45)]\n",
    "print(\"Infubinol deaths: \", Infubinol_deaths.shape[0])\n",
    "Ceftamin_deaths = max_times[(max_times['Drug Regimen'] == 'Ceftamin') & (max_times['Timepoint'] < 45)]\n",
    "print(\"Ceftamin deaths: \", Ceftamin_deaths.shape[0])"
   ]
  },
  {
   "cell_type": "markdown",
   "metadata": {},
   "source": [
    "### Ramicane quartiles & outliers"
   ]
  },
  {
   "cell_type": "code",
   "execution_count": 10,
   "metadata": {
    "scrolled": true
   },
   "outputs": [
    {
     "name": "stdout",
     "output_type": "stream",
     "text": [
      "Ramicane Final Tumor size, lower quartile: 31.56046955\n",
      "Ramicane Final Tumor size, upper quartile: 40.65900627\n",
      "Ramicane Interquartile range: 9.098536719999998\n",
      "Ramicane Final Tumor size, median: 36.56165229 \n",
      "Values below 17.912664470000003 could be outliers.\n",
      "Values above 54.30681135 could be outliers.\n",
      "There are 0 outliers in the Ramicane dataset.\n"
     ]
    }
   ],
   "source": [
    "quartile_df = pd.DataFrame()\n",
    "\n",
    "Ramicane_df = max_times[(max_times['Drug Regimen'] == 'Ramicane')]\n",
    "quartiles = Ramicane_df['Tumor Volume (mm3)'].quantile([0.25,0.5,0.75])\n",
    "\n",
    "lowerq = quartiles[0.25]\n",
    "upperq = quartiles[0.75] \n",
    "iqr = upperq-lowerq \n",
    "\n",
    "print(f\"Ramicane Final Tumor size, lower quartile: {lowerq}\")\n",
    "print(f\"Ramicane Final Tumor size, upper quartile: {upperq}\")\n",
    "print(f\"Ramicane Interquartile range: {iqr}\")\n",
    "print(f\"Ramicane Final Tumor size, median: {quartiles[0.5]} \")\n",
    "\n",
    "lower_bound = lowerq - (1.5*iqr)\n",
    "upper_bound = upperq + (1.5*iqr)\n",
    "print(f\"Values below {lower_bound} could be outliers.\")\n",
    "print(f\"Values above {upper_bound} could be outliers.\")\n",
    "\n",
    "quartile_df['Ramicane'] = quartiles\n",
    "\n",
    "outliers = Ramicane_df[(Ramicane_df['Tumor Volume (mm3)'] < lower_bound) | (Ramicane_df['Tumor Volume (mm3)'] > upper_bound)]\n",
    "print(f\"There are {len(outliers)} outliers in the Ramicane dataset.\")\n",
    "\n",
    "# Ramicane_df"
   ]
  },
  {
   "cell_type": "markdown",
   "metadata": {},
   "source": [
    "### Capomulin quartiles & outliers"
   ]
  },
  {
   "cell_type": "code",
   "execution_count": 11,
   "metadata": {},
   "outputs": [
    {
     "name": "stdout",
     "output_type": "stream",
     "text": [
      "Capomulin Final Tumor size, lower quartile: 32.37735684\n",
      "Capomulin Final Tumor size, upper quartile: 40.1592203\n",
      "Capomulin Interquartile range: 7.781863460000004\n",
      "Capomulin Final Tumor size, median: 38.125164399999996 \n",
      "Values below 20.70456164999999 could be outliers.\n",
      "Values above 51.83201549 could be outliers.\n",
      "There are 0 outliers in the Capomulin dataset.\n"
     ]
    }
   ],
   "source": [
    "Capomulin_df = max_times[(max_times['Drug Regimen'] == 'Capomulin')]\n",
    "quartiles = Capomulin_df['Tumor Volume (mm3)'].quantile([0.25,0.5,0.75])\n",
    "\n",
    "lowerq = quartiles[0.25]\n",
    "upperq = quartiles[0.75] \n",
    "iqr = upperq-lowerq\n",
    "\n",
    "print(f\"Capomulin Final Tumor size, lower quartile: {lowerq}\")\n",
    "print(f\"Capomulin Final Tumor size, upper quartile: {upperq}\")\n",
    "print(f\"Capomulin Interquartile range: {iqr}\")\n",
    "print(f\"Capomulin Final Tumor size, median: {quartiles[0.5]} \")\n",
    "\n",
    "lower_bound = lowerq - (1.5*iqr)\n",
    "upper_bound = upperq + (1.5*iqr)\n",
    "print(f\"Values below {lower_bound} could be outliers.\")\n",
    "print(f\"Values above {upper_bound} could be outliers.\")\n",
    "\n",
    "outliers = Capomulin_df[(Capomulin_df['Tumor Volume (mm3)'] < lower_bound) | (Capomulin_df['Tumor Volume (mm3)'] > upper_bound)]\n",
    "print(f\"There are {len(outliers)} outliers in the Capomulin dataset.\")\n",
    "\n",
    "quartile_df['Capomulin'] = quartiles\n",
    "\n",
    "# Capomulin_df"
   ]
  },
  {
   "cell_type": "markdown",
   "metadata": {},
   "source": [
    "### Infubinol quartiles & outliers"
   ]
  },
  {
   "cell_type": "code",
   "execution_count": 12,
   "metadata": {},
   "outputs": [
    {
     "name": "stdout",
     "output_type": "stream",
     "text": [
      "Infubinol Final Tumor size, lower quartile: 54.04860769\n",
      "Infubinol Final Tumor size, upper quartile: 65.52574285\n",
      "Infubinol Interquartile range: 11.477135160000003\n",
      "Infubinol Final Tumor size, median: 60.16518046 \n",
      "Values below 36.83290494999999 could be outliers.\n",
      "Values above 82.74144559000001 could be outliers.\n",
      "There are 1 outliers in the Infubinol dataset.\n"
     ]
    }
   ],
   "source": [
    "Infubinol_df = max_times[(max_times['Drug Regimen'] == 'Infubinol')]\n",
    "quartiles = Infubinol_df['Tumor Volume (mm3)'].quantile([0.25,0.5,0.75])\n",
    "\n",
    "lowerq = quartiles[0.25]\n",
    "upperq = quartiles[0.75] \n",
    "iqr = upperq-lowerq \n",
    "\n",
    "print(f\"Infubinol Final Tumor size, lower quartile: {lowerq}\")\n",
    "print(f\"Infubinol Final Tumor size, upper quartile: {upperq}\")\n",
    "print(f\"Infubinol Interquartile range: {iqr}\")\n",
    "print(f\"Infubinol Final Tumor size, median: {quartiles[0.5]} \")\n",
    "\n",
    "lower_bound = lowerq - (1.5*iqr)\n",
    "upper_bound = upperq + (1.5*iqr)\n",
    "print(f\"Values below {lower_bound} could be outliers.\")\n",
    "print(f\"Values above {upper_bound} could be outliers.\")\n",
    "\n",
    "outliers = Infubinol_df[(Infubinol_df['Tumor Volume (mm3)'] < lower_bound) | (Infubinol_df['Tumor Volume (mm3)'] > upper_bound)]\n",
    "print(f\"There are {len(outliers)} outliers in the Infubinol dataset.\")\n",
    "\n",
    "quartile_df['Infubinol'] = quartiles\n",
    "\n",
    "# Infubinol_df"
   ]
  },
  {
   "cell_type": "markdown",
   "metadata": {},
   "source": [
    "### Ceftamin quartiles & outliers"
   ]
  },
  {
   "cell_type": "code",
   "execution_count": 13,
   "metadata": {},
   "outputs": [
    {
     "name": "stdout",
     "output_type": "stream",
     "text": [
      "Ceftamin Final Tumor size, lower quartile: 48.72207785\n",
      "Ceftamin Final Tumor size, upper quartile: 64.29983003\n",
      "Ceftamin Interquartile range: 15.577752179999997\n",
      "Ceftamin Final Tumor size, median: 59.85195552 \n",
      "Values below 25.355449580000002 could be outliers.\n",
      "Values above 87.66645829999999 could be outliers.\n",
      "There are 0 outliers in the Ceftamin dataset.\n"
     ]
    }
   ],
   "source": [
    "Ceftamin_df = max_times[(max_times['Drug Regimen'] == 'Ceftamin')]\n",
    "quartiles = Ceftamin_df['Tumor Volume (mm3)'].quantile([0.25,0.5,0.75])\n",
    "\n",
    "# Infubinol_df = max_times[(max_times['Drug Regimen'] == 'Infubinol')]\n",
    "# quartiles = Infubinol_df['Tumor Volume (mm3)'].quantile([0.25,0.5,0.75])\n",
    "\n",
    "lowerq = quartiles[0.25]\n",
    "upperq = quartiles[0.75] \n",
    "iqr = upperq-lowerq \n",
    "\n",
    "print(f\"Ceftamin Final Tumor size, lower quartile: {lowerq}\")\n",
    "print(f\"Ceftamin Final Tumor size, upper quartile: {upperq}\")\n",
    "print(f\"Ceftamin Interquartile range: {iqr}\")\n",
    "print(f\"Ceftamin Final Tumor size, median: {quartiles[0.5]} \")\n",
    "\n",
    "lower_bound = lowerq - (1.5*iqr)\n",
    "upper_bound = upperq + (1.5*iqr)\n",
    "print(f\"Values below {lower_bound} could be outliers.\")\n",
    "print(f\"Values above {upper_bound} could be outliers.\")\n",
    "\n",
    "outliers = Ceftamin_df[(Ceftamin_df['Tumor Volume (mm3)'] < lower_bound) | (Ceftamin_df['Tumor Volume (mm3)'] > upper_bound)]\n",
    "print(f\"There are {len(outliers)} outliers in the Ceftamin dataset.\")\n",
    "\n",
    "quartile_df['Ceftamin'] = quartiles\n",
    "\n",
    "# Ceftamin_df"
   ]
  },
  {
   "cell_type": "markdown",
   "metadata": {},
   "source": [
    "### Comparing quartiles for all four drug regimens"
   ]
  },
  {
   "cell_type": "code",
   "execution_count": null,
   "metadata": {},
   "outputs": [],
   "source": [
    "quartile_df"
   ]
  },
  {
   "cell_type": "markdown",
   "metadata": {},
   "source": [
    "### Maximum and mininum final tumor sizes for the four regimens"
   ]
  },
  {
   "cell_type": "code",
   "execution_count": null,
   "metadata": {},
   "outputs": [],
   "source": [
    "maxes = max_times.groupby('Drug Regimen')['Tumor Volume (mm3)'].max()\n",
    "mins = max_times.groupby('Drug Regimen')['Tumor Volume (mm3)'].min()\n",
    "print(maxes, mins)"
   ]
  },
  {
   "cell_type": "markdown",
   "metadata": {},
   "source": [
    "### Plotting the quartiles and outliers for each drug regimen"
   ]
  },
  {
   "cell_type": "code",
   "execution_count": 14,
   "metadata": {},
   "outputs": [
    {
     "data": {
      "text/plain": [
       "Text(0.5, 1.0, 'Tumor volumes at end of treatment')"
      ]
     },
     "execution_count": 14,
     "metadata": {},
     "output_type": "execute_result"
    },
    {
     "data": {
      "image/png": "[encoded data removed]",
      "text/plain": [
       "<Figure size 864x648 with 1 Axes>"
      ]
     },
     "metadata": {
      "needs_background": "light"
     },
     "output_type": "display_data"
    }
   ],
   "source": [
    "# Generate a box plot of the final tumor volume of each mouse across four regimens of interest\n",
    "\n",
    "# Create list of data to plot\n",
    "plot_data = [Ramicane_df['Tumor Volume (mm3)'],\n",
    "                Capomulin_df['Tumor Volume (mm3)'],\n",
    "                Infubinol_df['Tumor Volume (mm3)'],   \n",
    "                Ceftamin_df['Tumor Volume (mm3)']]\n",
    "\n",
    "markers = dict(markerfacecolor='#bb8fce', marker='^')\n",
    "medianprops = dict(linestyle='-', linewidth=1.5, color='#bb8fce')\n",
    "                \n",
    "# Create a figure instance\n",
    "fig = plt.figure(figsize=(12,9))\n",
    "\n",
    "# Create an axes instance\n",
    "ax = fig.add_subplot()\n",
    "\n",
    "# Create the boxplot\n",
    "drug_compare = ax.boxplot(plot_data, flierprops=markers, medianprops=medianprops)\n",
    "plt.ylim(15,90)\n",
    "plt.yticks(fontsize='12')\n",
    "plt.xticks(range(1,5), labels=quartile_df.columns, fontsize='12')\n",
    "plt.ylabel(\"Tumor volume (mm3)\", fontsize='14')\n",
    "plt.xlabel(\"Drug regimen\", fontsize='14')\n",
    "plt.title(\"Tumor volumes at end of treatment\", fontsize='x-large')"
   ]
  },
  {
   "cell_type": "markdown",
   "metadata": {},
   "source": [
    "## Line and scatter plots"
   ]
  },
  {
   "cell_type": "markdown",
   "metadata": {},
   "source": [
    "### Tumor volume over time for Mouse x401"
   ]
  },
  {
   "cell_type": "code",
   "execution_count": 15,
   "metadata": {},
   "outputs": [
    {
     "data": {
      "image/png": "[encoded data removed]",
      "text/plain": [
       "<Figure size 432x288 with 1 Axes>"
      ]
     },
     "metadata": {
      "needs_background": "light"
     },
     "output_type": "display_data"
    }
   ],
   "source": [
    "# Generate a line plot of time point versus tumor volume for a single mouse treated with Capomulin.\n",
    "Capomulin_mouse = data[(data['Drug Regimen'] == 'Capomulin') & (data['Mouse ID'] == 'x401')]\n",
    "plt.plot(Capomulin_mouse['Timepoint'], Capomulin_mouse['Tumor Volume (mm3)'], label=\"Tumor volume\", color='#bb8fce', marker='o')\n",
    "plt.xlabel('Day')\n",
    "plt.ylabel('Tumor Volume (mm3)')\n",
    "plt.title('Tumor size over time for Mouse ID x401')\n",
    "plt.xlim(0,45)\n",
    "plt.legend(framealpha=0.5, loc='best')\n",
    "plt.grid(b=None, which='major', axis='y', alpha=0.25)"
   ]
  },
  {
   "cell_type": "markdown",
   "metadata": {},
   "source": [
    "### Plotting mouse weight vs average tumor volume"
   ]
  },
  {
   "cell_type": "code",
   "execution_count": 16,
   "metadata": {},
   "outputs": [
    {
     "data": {
      "text/plain": [
       "(30, 50)"
      ]
     },
     "execution_count": 16,
     "metadata": {},
     "output_type": "execute_result"
    },
    {
     "data": {
      "image/png": "[encoded data removed]",
      "text/plain": [
       "<Figure size 432x288 with 1 Axes>"
      ]
     },
     "metadata": {
      "needs_background": "light"
     },
     "output_type": "display_data"
    }
   ],
   "source": [
    "# Generate a scatter plot of mouse weight versus average tumor volume for the Capomulin treatment regimen.\n",
    "Capomulin = data[data['Drug Regimen'] == 'Capomulin']\n",
    "avg = Capomulin.groupby('Mouse ID')['Tumor Volume (mm3)', 'Weight (g)'].mean()\n",
    "weights = avg['Weight (g)']\n",
    "tumor_vol = avg['Tumor Volume (mm3)']\n",
    "plt.scatter(weights, tumor_vol, color='#bb8fce', marker='o') \n",
    "plt.ylabel(\"Tumor Volume (mm3)\")\n",
    "plt.xlabel(\"Weight (g)\")\n",
    "plt.title(\"Capomulin: Average tumor volume by mouse weight\")\n",
    "plt.xticks(range(15,26))\n",
    "plt.yticks(np.arange(20, 52, step=5))\n",
    "plt.grid(b=None, which='major', axis='y', alpha=0.25)\n",
    "plt.xlim(14,26)\n",
    "plt.ylim(30,50)"
   ]
  },
  {
   "cell_type": "markdown",
   "metadata": {},
   "source": [
    "### Capomulin: Correlation coefficient & linear regression model"
   ]
  },
  {
   "cell_type": "code",
   "execution_count": 17,
   "metadata": {},
   "outputs": [
    {
     "name": "stdout",
     "output_type": "stream",
     "text": [
      "The correlation between both factors is 0.84\n"
     ]
    }
   ],
   "source": [
    "# Calculate the correlation coefficient and linear regression model between mouse weight and average tumor volume \n",
    "# for the Capomulin treatment. \n",
    "\n",
    "# Correlation coefficient\n",
    "correlation = st.pearsonr(weights, tumor_vol)\n",
    "print(f\"The correlation between both factors is {round(correlation[0],2)}\")\n",
    "\n",
    "# Linear regression model\n",
    "(slope, intercept, rvalue, pvalue, stderr) = linregress(weights, tumor_vol) \n",
    "regress_values = weights * slope + intercept\n",
    "line_eq = \"y = \" + str(round(slope,2)) + \"x + \" + str(round(intercept,2)) "
   ]
  },
  {
   "cell_type": "code",
   "execution_count": 18,
   "metadata": {},
   "outputs": [
    {
     "data": {
      "text/plain": [
       "(30, 50)"
      ]
     },
     "execution_count": 18,
     "metadata": {},
     "output_type": "execute_result"
    },
    {
     "data": {
      "image/png": "[encoded data removed]",
      "text/plain": [
       "<Figure size 432x288 with 1 Axes>"
      ]
     },
     "metadata": {
      "needs_background": "light"
     },
     "output_type": "display_data"
    }
   ],
   "source": [
    "Capomulin = data[data['Drug Regimen'] == 'Capomulin']\n",
    "avg = Capomulin.groupby('Mouse ID')['Tumor Volume (mm3)', 'Weight (g)'].mean()\n",
    "weights = avg['Weight (g)']\n",
    "tumor_vol = avg['Tumor Volume (mm3)']\n",
    "plt.plot(weights,regress_values,\"-\", color='#FF5733')\n",
    "plt.annotate(line_eq,(15,45),fontsize=15,color=\"#FF5733\") \n",
    "plt.scatter(weights, tumor_vol, color='#bb8fce', marker='o') \n",
    "plt.ylabel(\"Tumor Volume (mm3)\")\n",
    "plt.xlabel(\"Weight (g)\")\n",
    "plt.title(\"Capomulin: Average tumor volume by mouse weight\")\n",
    "plt.xticks(range(15,26))\n",
    "plt.yticks(np.arange(20, 52, step=5))\n",
    "plt.grid(b=None, which='major', axis='y', alpha=0.25)\n",
    "plt.xlim(14,26)\n",
    "plt.ylim(30,50)"
   ]
  },
  {
   "cell_type": "code",
   "execution_count": null,
   "metadata": {},
   "outputs": [],
   "source": []
  }
 ],
 "metadata": {
  "anaconda-cloud": {},
  "kernelspec": {
   "display_name": "Python 3",
   "language": "python",
   "name": "python3"
  },
  "language_info": {
   "codemirror_mode": {
    "name": "ipython",
    "version": 3
   },
   "file_extension": ".py",
   "mimetype": "text/x-python",
   "name": "python",
   "nbconvert_exporter": "python",
   "pygments_lexer": "ipython3",
   "version": "3.7.4"
  }
 },
 "nbformat": 4,
 "nbformat_minor": 2
}
